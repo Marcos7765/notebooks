{
 "cells": [
  {
   "cell_type": "code",
   "execution_count": 1,
   "id": "a1a80273",
   "metadata": {},
   "outputs": [],
   "source": [
    "import numpy as np\n",
    "import matplotlib.pyplot as plt\n",
    "import tensorflow as tf\n",
    "from sklearn.metrics import ConfusionMatrixDisplay\n",
    "from sklearn.model_selection import train_test_split\n",
    "import gzip\n",
    "import csv\n",
    "import pandas as pd"
   ]
  },
  {
   "cell_type": "code",
   "execution_count": 2,
   "id": "b212f191",
   "metadata": {},
   "outputs": [
    {
     "name": "stdout",
     "output_type": "stream",
     "text": [
      "   id letter  next_id  word_id  position  fold  p_0_0  p_0_1  p_0_2  p_0_3  \\\n",
      "0   1      o        2        1         1     0      0      0      0      0   \n",
      "1   2      m        3        1         2     0      0      0      0      0   \n",
      "2   3      m        4        1         3     0      0      0      0      0   \n",
      "3   4      a        5        1         4     0      0      0      0      0   \n",
      "4   5      n        6        1         5     0      0      0      0      0   \n",
      "\n",
      "   ...  p_14_6  p_14_7  p_15_0  p_15_1  p_15_2  p_15_3  p_15_4  p_15_5  \\\n",
      "0  ...       0       0       0       0       0       0       0       0   \n",
      "1  ...       0       0       0       0       0       0       0       0   \n",
      "2  ...       0       0       0       0       0       0       0       0   \n",
      "3  ...       0       0       0       0       0       0       0       0   \n",
      "4  ...       0       0       0       0       0       0       0       0   \n",
      "\n",
      "   p_15_6  p_15_7  \n",
      "0       0       0  \n",
      "1       0       0  \n",
      "2       0       0  \n",
      "3       0       0  \n",
      "4       0       0  \n",
      "\n",
      "[5 rows x 134 columns]\n"
     ]
    }
   ],
   "source": [
    "letras = \"abcdefghijklmnopqrstuvwxyz\"\n",
    "nome = []\n",
    "with open(\"letter.names\",mode=\"rt\", newline=None) as nomes:\n",
    "    for linha in nomes:\n",
    "        nome.append(linha[:(len(linha)-1)])\n",
    "        \n",
    "    with gzip.open(\"letter.data.gz\", mode=\"rt\") as jupe:\n",
    "        dados = pd.read_table(jupe, sep=\"\\t\", names=nome, index_col=False)\n",
    "print(dados.head())"
   ]
  },
  {
   "cell_type": "code",
   "execution_count": 3,
   "id": "70f6d289",
   "metadata": {
    "scrolled": true
   },
   "outputs": [
    {
     "data": {
      "text/html": [
       "<div>\n",
       "<style scoped>\n",
       "    .dataframe tbody tr th:only-of-type {\n",
       "        vertical-align: middle;\n",
       "    }\n",
       "\n",
       "    .dataframe tbody tr th {\n",
       "        vertical-align: top;\n",
       "    }\n",
       "\n",
       "    .dataframe thead th {\n",
       "        text-align: right;\n",
       "    }\n",
       "</style>\n",
       "<table border=\"1\" class=\"dataframe\">\n",
       "  <thead>\n",
       "    <tr style=\"text-align: right;\">\n",
       "      <th></th>\n",
       "      <th>letter</th>\n",
       "      <th>p_0_0</th>\n",
       "      <th>p_0_1</th>\n",
       "      <th>p_0_2</th>\n",
       "      <th>p_0_3</th>\n",
       "      <th>p_0_4</th>\n",
       "      <th>p_0_5</th>\n",
       "      <th>p_0_6</th>\n",
       "      <th>p_0_7</th>\n",
       "      <th>p_1_0</th>\n",
       "      <th>...</th>\n",
       "      <th>p_14_6</th>\n",
       "      <th>p_14_7</th>\n",
       "      <th>p_15_0</th>\n",
       "      <th>p_15_1</th>\n",
       "      <th>p_15_2</th>\n",
       "      <th>p_15_3</th>\n",
       "      <th>p_15_4</th>\n",
       "      <th>p_15_5</th>\n",
       "      <th>p_15_6</th>\n",
       "      <th>p_15_7</th>\n",
       "    </tr>\n",
       "  </thead>\n",
       "  <tbody>\n",
       "    <tr>\n",
       "      <th>0</th>\n",
       "      <td>o</td>\n",
       "      <td>0</td>\n",
       "      <td>0</td>\n",
       "      <td>0</td>\n",
       "      <td>0</td>\n",
       "      <td>0</td>\n",
       "      <td>0</td>\n",
       "      <td>0</td>\n",
       "      <td>0</td>\n",
       "      <td>0</td>\n",
       "      <td>...</td>\n",
       "      <td>0</td>\n",
       "      <td>0</td>\n",
       "      <td>0</td>\n",
       "      <td>0</td>\n",
       "      <td>0</td>\n",
       "      <td>0</td>\n",
       "      <td>0</td>\n",
       "      <td>0</td>\n",
       "      <td>0</td>\n",
       "      <td>0</td>\n",
       "    </tr>\n",
       "    <tr>\n",
       "      <th>1</th>\n",
       "      <td>m</td>\n",
       "      <td>0</td>\n",
       "      <td>0</td>\n",
       "      <td>0</td>\n",
       "      <td>0</td>\n",
       "      <td>0</td>\n",
       "      <td>0</td>\n",
       "      <td>0</td>\n",
       "      <td>0</td>\n",
       "      <td>0</td>\n",
       "      <td>...</td>\n",
       "      <td>0</td>\n",
       "      <td>0</td>\n",
       "      <td>0</td>\n",
       "      <td>0</td>\n",
       "      <td>0</td>\n",
       "      <td>0</td>\n",
       "      <td>0</td>\n",
       "      <td>0</td>\n",
       "      <td>0</td>\n",
       "      <td>0</td>\n",
       "    </tr>\n",
       "    <tr>\n",
       "      <th>2</th>\n",
       "      <td>m</td>\n",
       "      <td>0</td>\n",
       "      <td>0</td>\n",
       "      <td>0</td>\n",
       "      <td>0</td>\n",
       "      <td>0</td>\n",
       "      <td>0</td>\n",
       "      <td>0</td>\n",
       "      <td>0</td>\n",
       "      <td>0</td>\n",
       "      <td>...</td>\n",
       "      <td>0</td>\n",
       "      <td>0</td>\n",
       "      <td>0</td>\n",
       "      <td>0</td>\n",
       "      <td>0</td>\n",
       "      <td>0</td>\n",
       "      <td>0</td>\n",
       "      <td>0</td>\n",
       "      <td>0</td>\n",
       "      <td>0</td>\n",
       "    </tr>\n",
       "    <tr>\n",
       "      <th>3</th>\n",
       "      <td>a</td>\n",
       "      <td>0</td>\n",
       "      <td>0</td>\n",
       "      <td>0</td>\n",
       "      <td>0</td>\n",
       "      <td>0</td>\n",
       "      <td>0</td>\n",
       "      <td>0</td>\n",
       "      <td>0</td>\n",
       "      <td>0</td>\n",
       "      <td>...</td>\n",
       "      <td>0</td>\n",
       "      <td>0</td>\n",
       "      <td>0</td>\n",
       "      <td>0</td>\n",
       "      <td>0</td>\n",
       "      <td>0</td>\n",
       "      <td>0</td>\n",
       "      <td>0</td>\n",
       "      <td>0</td>\n",
       "      <td>0</td>\n",
       "    </tr>\n",
       "    <tr>\n",
       "      <th>4</th>\n",
       "      <td>n</td>\n",
       "      <td>0</td>\n",
       "      <td>0</td>\n",
       "      <td>0</td>\n",
       "      <td>0</td>\n",
       "      <td>0</td>\n",
       "      <td>0</td>\n",
       "      <td>0</td>\n",
       "      <td>0</td>\n",
       "      <td>0</td>\n",
       "      <td>...</td>\n",
       "      <td>0</td>\n",
       "      <td>0</td>\n",
       "      <td>0</td>\n",
       "      <td>0</td>\n",
       "      <td>0</td>\n",
       "      <td>0</td>\n",
       "      <td>0</td>\n",
       "      <td>0</td>\n",
       "      <td>0</td>\n",
       "      <td>0</td>\n",
       "    </tr>\n",
       "  </tbody>\n",
       "</table>\n",
       "<p>5 rows × 129 columns</p>\n",
       "</div>"
      ],
      "text/plain": [
       "  letter  p_0_0  p_0_1  p_0_2  p_0_3  p_0_4  p_0_5  p_0_6  p_0_7  p_1_0  ...  \\\n",
       "0      o      0      0      0      0      0      0      0      0      0  ...   \n",
       "1      m      0      0      0      0      0      0      0      0      0  ...   \n",
       "2      m      0      0      0      0      0      0      0      0      0  ...   \n",
       "3      a      0      0      0      0      0      0      0      0      0  ...   \n",
       "4      n      0      0      0      0      0      0      0      0      0  ...   \n",
       "\n",
       "   p_14_6  p_14_7  p_15_0  p_15_1  p_15_2  p_15_3  p_15_4  p_15_5  p_15_6  \\\n",
       "0       0       0       0       0       0       0       0       0       0   \n",
       "1       0       0       0       0       0       0       0       0       0   \n",
       "2       0       0       0       0       0       0       0       0       0   \n",
       "3       0       0       0       0       0       0       0       0       0   \n",
       "4       0       0       0       0       0       0       0       0       0   \n",
       "\n",
       "   p_15_7  \n",
       "0       0  \n",
       "1       0  \n",
       "2       0  \n",
       "3       0  \n",
       "4       0  \n",
       "\n",
       "[5 rows x 129 columns]"
      ]
     },
     "execution_count": 3,
     "metadata": {},
     "output_type": "execute_result"
    }
   ],
   "source": [
    "dados = dados.drop(columns=[\"id\", \"next_id\",\"word_id\",\"position\",\"fold\"])\n",
    "dados.head()"
   ]
  },
  {
   "cell_type": "code",
   "execution_count": 4,
   "id": "99adc84f",
   "metadata": {},
   "outputs": [],
   "source": [
    "y = pd.Categorical(dados.pop(\"letter\")).codes"
   ]
  },
  {
   "cell_type": "code",
   "execution_count": 5,
   "id": "c0af41a9",
   "metadata": {},
   "outputs": [
    {
     "name": "stdout",
     "output_type": "stream",
     "text": [
      "       p_0_0  p_0_1  p_0_2  p_0_3  p_0_4  p_0_5  p_0_6  p_0_7  p_1_0  p_1_1  \\\n",
      "39337      0      0      0      0      0      0      0      0      0      0   \n",
      "49115      0      0      0      0      0      0      0      0      0      0   \n",
      "7647       0      1      1      0      0      0      0      0      0      0   \n",
      "39176      0      0      0      0      0      0      0      0      0      0   \n",
      "51514      0      0      1      1      1      1      0      0      0      0   \n",
      "27117      0      0      0      0      0      0      0      0      0      0   \n",
      "19814      0      0      0      0      0      0      0      0      0      0   \n",
      "32939      0      0      0      0      0      1      1      0      0      0   \n",
      "39195      0      0      0      0      0      0      0      0      0      0   \n",
      "31588      0      0      0      0      0      0      0      0      0      0   \n",
      "\n",
      "       ...  p_14_6  p_14_7  p_15_0  p_15_1  p_15_2  p_15_3  p_15_4  p_15_5  \\\n",
      "39337  ...       0       0       0       0       0       0       0       0   \n",
      "49115  ...       0       0       0       0       0       0       0       0   \n",
      "7647   ...       0       0       0       0       0       0       0       1   \n",
      "39176  ...       0       0       0       0       0       0       0       0   \n",
      "51514  ...       0       0       0       0       0       0       0       1   \n",
      "27117  ...       0       0       0       0       0       0       0       0   \n",
      "19814  ...       0       0       0       0       0       0       0       0   \n",
      "32939  ...       0       0       0       1       1       0       0       0   \n",
      "39195  ...       0       0       0       0       0       0       0       0   \n",
      "31588  ...       0       0       0       0       0       0       0       0   \n",
      "\n",
      "       p_15_6  p_15_7  \n",
      "39337       0       0  \n",
      "49115       0       0  \n",
      "7647        1       0  \n",
      "39176       0       0  \n",
      "51514       0       0  \n",
      "27117       0       0  \n",
      "19814       0       0  \n",
      "32939       0       0  \n",
      "39195       0       0  \n",
      "31588       0       0  \n",
      "\n",
      "[10 rows x 128 columns]\n"
     ]
    }
   ],
   "source": [
    "X_treino, X_teste, Y_treino, Y_teste = train_test_split(dados, y, test_size=0.1)\n",
    "print(X_treino[:10])"
   ]
  },
  {
   "cell_type": "code",
   "execution_count": 6,
   "id": "656f7cce",
   "metadata": {},
   "outputs": [],
   "source": [
    "X_teste = np.array(X_teste)\n",
    "X_treino = np.array(X_treino)\n",
    "\n",
    "X_teste = np.reshape(X_teste, (len(X_teste),16,8,1))\n",
    "X_treino = np.reshape(X_treino, (len(X_treino),16,8,1))\n"
   ]
  },
  {
   "cell_type": "code",
   "execution_count": 7,
   "id": "0da7dbd9",
   "metadata": {},
   "outputs": [
    {
     "name": "stdout",
     "output_type": "stream",
     "text": [
      "Model: \"Modelo_final\"\n",
      "_________________________________________________________________\n",
      "Layer (type)                 Output Shape              Param #   \n",
      "=================================================================\n",
      "conv2d (Conv2D)              (None, 13, 7, 16)         144       \n",
      "_________________________________________________________________\n",
      "dropout (Dropout)            (None, 13, 7, 16)         0         \n",
      "_________________________________________________________________\n",
      "conv2d_1 (Conv2D)            (None, 10, 6, 32)         4128      \n",
      "_________________________________________________________________\n",
      "dropout_1 (Dropout)          (None, 10, 6, 32)         0         \n",
      "_________________________________________________________________\n",
      "conv2d_2 (Conv2D)            (None, 7, 5, 64)          16448     \n",
      "_________________________________________________________________\n",
      "dropout_2 (Dropout)          (None, 7, 5, 64)          0         \n",
      "_________________________________________________________________\n",
      "conv2d_3 (Conv2D)            (None, 4, 4, 128)         65664     \n",
      "_________________________________________________________________\n",
      "dropout_3 (Dropout)          (None, 4, 4, 128)         0         \n",
      "_________________________________________________________________\n",
      "conv2d_4 (Conv2D)            (None, 3, 3, 256)         131328    \n",
      "_________________________________________________________________\n",
      "dropout_4 (Dropout)          (None, 3, 3, 256)         0         \n",
      "_________________________________________________________________\n",
      "conv2d_5 (Conv2D)            (None, 2, 2, 512)         524800    \n",
      "_________________________________________________________________\n",
      "dropout_5 (Dropout)          (None, 2, 2, 512)         0         \n",
      "_________________________________________________________________\n",
      "conv2d_6 (Conv2D)            (None, 1, 1, 1024)        2098176   \n",
      "_________________________________________________________________\n",
      "dropout_6 (Dropout)          (None, 1, 1, 1024)        0         \n",
      "_________________________________________________________________\n",
      "flatten (Flatten)            (None, 1024)              0         \n",
      "_________________________________________________________________\n",
      "dense (Dense)                (None, 26)                26650     \n",
      "=================================================================\n",
      "Total params: 2,867,338\n",
      "Trainable params: 2,867,338\n",
      "Non-trainable params: 0\n",
      "_________________________________________________________________\n"
     ]
    }
   ],
   "source": [
    "modelo = tf.keras.Sequential([\n",
    "    tf.keras.Input((16,8,1)),\n",
    "    tf.keras.layers.Conv2D(filters=16, kernel_size=(4,2),activation=\"relu\"),\n",
    "    tf.keras.layers.Dropout(0.2),\n",
    "    tf.keras.layers.Conv2D(filters=32, kernel_size=(4,2),activation=\"relu\"),\n",
    "    tf.keras.layers.Dropout(0.2),\n",
    "    tf.keras.layers.Conv2D(filters=64, kernel_size=(4,2),activation=\"relu\"),\n",
    "    tf.keras.layers.Dropout(0.3),\n",
    "    tf.keras.layers.Conv2D(filters=128, kernel_size=(4,2),activation=\"relu\"),\n",
    "    tf.keras.layers.Dropout(0.3),\n",
    "    tf.keras.layers.Conv2D(filters=256, kernel_size=(2,2),activation=\"relu\"),\n",
    "    tf.keras.layers.Dropout(0.4),\n",
    "    tf.keras.layers.Conv2D(filters=512, kernel_size=(2,2),activation=\"relu\"),\n",
    "    tf.keras.layers.Dropout(0.4),\n",
    "    tf.keras.layers.Conv2D(filters=1024, kernel_size=(2,2),activation=\"relu\"),\n",
    "    tf.keras.layers.Dropout(0.5),\n",
    "    tf.keras.layers.Flatten(),\n",
    "    tf.keras.layers.Dense(26, activation=\"softmax\"),\n",
    "    \n",
    "], name=\"Modelo_final\")\n",
    "modelo.summary()"
   ]
  },
  {
   "cell_type": "code",
   "execution_count": 8,
   "id": "e9c612a3",
   "metadata": {},
   "outputs": [
    {
     "name": "stdout",
     "output_type": "stream",
     "text": [
      "Epoch 1/100\n",
      "331/331 [==============================] - 12s 16ms/step - loss: 1.4393 - accuracy: 0.5732 - val_loss: 0.9652 - val_accuracy: 0.7094\n",
      "Epoch 2/100\n",
      "331/331 [==============================] - 4s 13ms/step - loss: 0.7448 - accuracy: 0.7733 - val_loss: 0.4940 - val_accuracy: 0.8517\n",
      "Epoch 3/100\n",
      "331/331 [==============================] - 4s 13ms/step - loss: 0.5852 - accuracy: 0.8213 - val_loss: 0.3982 - val_accuracy: 0.8775\n",
      "Epoch 4/100\n",
      "331/331 [==============================] - 4s 13ms/step - loss: 0.5035 - accuracy: 0.8434 - val_loss: 0.3723 - val_accuracy: 0.8818\n",
      "Epoch 5/100\n",
      "331/331 [==============================] - 4s 13ms/step - loss: 0.4626 - accuracy: 0.8565 - val_loss: 0.3296 - val_accuracy: 0.8952\n",
      "Epoch 6/100\n",
      "331/331 [==============================] - 4s 13ms/step - loss: 0.4168 - accuracy: 0.8708 - val_loss: 0.3039 - val_accuracy: 0.9009\n",
      "Epoch 7/100\n",
      "331/331 [==============================] - 4s 13ms/step - loss: 0.3986 - accuracy: 0.8749 - val_loss: 0.3075 - val_accuracy: 0.8967\n",
      "Epoch 8/100\n",
      "331/331 [==============================] - 4s 13ms/step - loss: 0.3872 - accuracy: 0.8792 - val_loss: 0.3089 - val_accuracy: 0.9073\n",
      "Epoch 9/100\n",
      "331/331 [==============================] - 4s 13ms/step - loss: 0.3598 - accuracy: 0.8880 - val_loss: 0.3052 - val_accuracy: 0.9052\n",
      "Epoch 10/100\n",
      "331/331 [==============================] - 4s 13ms/step - loss: 0.3571 - accuracy: 0.8874 - val_loss: 0.3349 - val_accuracy: 0.8977\n",
      "Epoch 11/100\n",
      "331/331 [==============================] - 4s 13ms/step - loss: 0.3597 - accuracy: 0.8867 - val_loss: 0.2692 - val_accuracy: 0.9167\n",
      "Epoch 12/100\n",
      "331/331 [==============================] - 4s 13ms/step - loss: 0.3304 - accuracy: 0.8932 - val_loss: 0.2870 - val_accuracy: 0.9075\n",
      "Epoch 13/100\n",
      "331/331 [==============================] - 4s 13ms/step - loss: 0.3229 - accuracy: 0.8971 - val_loss: 0.2608 - val_accuracy: 0.9197\n",
      "Epoch 14/100\n",
      "331/331 [==============================] - 4s 13ms/step - loss: 0.3090 - accuracy: 0.9024 - val_loss: 0.2820 - val_accuracy: 0.9148\n",
      "Epoch 15/100\n",
      "331/331 [==============================] - 4s 13ms/step - loss: 0.3097 - accuracy: 0.9001 - val_loss: 0.2747 - val_accuracy: 0.9159\n",
      "Epoch 16/100\n",
      "331/331 [==============================] - 4s 13ms/step - loss: 0.2995 - accuracy: 0.9041 - val_loss: 0.2770 - val_accuracy: 0.9169\n",
      "Epoch 17/100\n",
      "331/331 [==============================] - 4s 13ms/step - loss: 0.2882 - accuracy: 0.9065 - val_loss: 0.2692 - val_accuracy: 0.9167\n",
      "Epoch 18/100\n",
      "331/331 [==============================] - 4s 13ms/step - loss: 0.2923 - accuracy: 0.9055 - val_loss: 0.2831 - val_accuracy: 0.9129\n",
      "Epoch 19/100\n",
      "331/331 [==============================] - 4s 13ms/step - loss: 0.2960 - accuracy: 0.9049 - val_loss: 0.2806 - val_accuracy: 0.9207\n",
      "Epoch 20/100\n",
      "331/331 [==============================] - 4s 13ms/step - loss: 0.3250 - accuracy: 0.8951 - val_loss: 0.2623 - val_accuracy: 0.9216\n",
      "Epoch 21/100\n",
      "331/331 [==============================] - 4s 13ms/step - loss: 0.2781 - accuracy: 0.9092 - val_loss: 0.2397 - val_accuracy: 0.9254\n",
      "Epoch 22/100\n",
      "331/331 [==============================] - 4s 13ms/step - loss: 0.2642 - accuracy: 0.9128 - val_loss: 0.2540 - val_accuracy: 0.9210\n",
      "Epoch 23/100\n",
      "331/331 [==============================] - 4s 13ms/step - loss: 0.2617 - accuracy: 0.9140 - val_loss: 0.2556 - val_accuracy: 0.9231\n",
      "Epoch 24/100\n",
      "331/331 [==============================] - 4s 13ms/step - loss: 0.2605 - accuracy: 0.9140 - val_loss: 0.2545 - val_accuracy: 0.9188\n",
      "Epoch 25/100\n",
      "331/331 [==============================] - 4s 13ms/step - loss: 0.2590 - accuracy: 0.9145 - val_loss: 0.2431 - val_accuracy: 0.9246\n",
      "Epoch 26/100\n",
      "331/331 [==============================] - 4s 13ms/step - loss: 0.2596 - accuracy: 0.9167 - val_loss: 0.2503 - val_accuracy: 0.9248\n",
      "Epoch 27/100\n",
      "331/331 [==============================] - 4s 13ms/step - loss: 0.2499 - accuracy: 0.9172 - val_loss: 0.2476 - val_accuracy: 0.9248\n",
      "Epoch 28/100\n",
      "331/331 [==============================] - 4s 13ms/step - loss: 0.2546 - accuracy: 0.9157 - val_loss: 0.2489 - val_accuracy: 0.9233\n",
      "Epoch 29/100\n",
      "331/331 [==============================] - 4s 13ms/step - loss: 0.2504 - accuracy: 0.9176 - val_loss: 0.2571 - val_accuracy: 0.9210\n",
      "Epoch 30/100\n",
      "331/331 [==============================] - 4s 13ms/step - loss: 0.2565 - accuracy: 0.9163 - val_loss: 0.2507 - val_accuracy: 0.9222\n",
      "Epoch 31/100\n",
      "331/331 [==============================] - 4s 13ms/step - loss: 0.2457 - accuracy: 0.9200 - val_loss: 0.2437 - val_accuracy: 0.9235\n",
      "Epoch 32/100\n",
      "331/331 [==============================] - 4s 13ms/step - loss: 0.2486 - accuracy: 0.9190 - val_loss: 0.2545 - val_accuracy: 0.9235\n",
      "Epoch 33/100\n",
      "331/331 [==============================] - 4s 13ms/step - loss: 0.2433 - accuracy: 0.9206 - val_loss: 0.2505 - val_accuracy: 0.9269\n",
      "Epoch 34/100\n",
      "331/331 [==============================] - 4s 13ms/step - loss: 0.2422 - accuracy: 0.9198 - val_loss: 0.2636 - val_accuracy: 0.9246\n",
      "Epoch 35/100\n",
      "331/331 [==============================] - 4s 13ms/step - loss: 0.2358 - accuracy: 0.9198 - val_loss: 0.2537 - val_accuracy: 0.9267\n",
      "Epoch 36/100\n",
      "331/331 [==============================] - 4s 13ms/step - loss: 0.2394 - accuracy: 0.9191 - val_loss: 0.2458 - val_accuracy: 0.9274\n",
      "Epoch 37/100\n",
      "331/331 [==============================] - 4s 13ms/step - loss: 0.2349 - accuracy: 0.9216 - val_loss: 0.2529 - val_accuracy: 0.9242\n",
      "Epoch 38/100\n",
      "331/331 [==============================] - 4s 13ms/step - loss: 0.2325 - accuracy: 0.9212 - val_loss: 0.2592 - val_accuracy: 0.9237\n",
      "Epoch 39/100\n",
      "331/331 [==============================] - 4s 13ms/step - loss: 0.2318 - accuracy: 0.9223 - val_loss: 0.2626 - val_accuracy: 0.9237\n",
      "Epoch 40/100\n",
      "331/331 [==============================] - 4s 13ms/step - loss: 0.2353 - accuracy: 0.9213 - val_loss: 0.2536 - val_accuracy: 0.9250\n",
      "Epoch 41/100\n",
      "331/331 [==============================] - 4s 13ms/step - loss: 0.2304 - accuracy: 0.9231 - val_loss: 0.2667 - val_accuracy: 0.9265\n",
      "Epoch 42/100\n",
      "331/331 [==============================] - 4s 13ms/step - loss: 0.2291 - accuracy: 0.9236 - val_loss: 0.2504 - val_accuracy: 0.9233\n",
      "Epoch 43/100\n",
      "331/331 [==============================] - 4s 13ms/step - loss: 0.2296 - accuracy: 0.9237 - val_loss: 0.2502 - val_accuracy: 0.9246\n",
      "Epoch 44/100\n",
      "331/331 [==============================] - 4s 13ms/step - loss: 0.2257 - accuracy: 0.9228 - val_loss: 0.2510 - val_accuracy: 0.9286\n",
      "Epoch 45/100\n",
      "331/331 [==============================] - 4s 13ms/step - loss: 0.2246 - accuracy: 0.9238 - val_loss: 0.2604 - val_accuracy: 0.9261\n",
      "Epoch 46/100\n",
      "331/331 [==============================] - 4s 13ms/step - loss: 0.2253 - accuracy: 0.9228 - val_loss: 0.2514 - val_accuracy: 0.9271\n",
      "Epoch 47/100\n",
      "331/331 [==============================] - 4s 13ms/step - loss: 0.2358 - accuracy: 0.9223 - val_loss: 0.2513 - val_accuracy: 0.9250\n",
      "Epoch 48/100\n",
      "331/331 [==============================] - 4s 13ms/step - loss: 0.2485 - accuracy: 0.9185 - val_loss: 0.2450 - val_accuracy: 0.9263\n",
      "Epoch 49/100\n",
      "331/331 [==============================] - 4s 13ms/step - loss: 0.2320 - accuracy: 0.9235 - val_loss: 0.2487 - val_accuracy: 0.9263\n",
      "Epoch 50/100\n",
      "331/331 [==============================] - 4s 13ms/step - loss: 0.2230 - accuracy: 0.9268 - val_loss: 0.2500 - val_accuracy: 0.9265\n",
      "Epoch 51/100\n",
      "331/331 [==============================] - 4s 14ms/step - loss: 0.2196 - accuracy: 0.9256 - val_loss: 0.2399 - val_accuracy: 0.9299\n",
      "Epoch 52/100\n",
      "331/331 [==============================] - 4s 13ms/step - loss: 0.2227 - accuracy: 0.9258 - val_loss: 0.2473 - val_accuracy: 0.9267\n",
      "Epoch 53/100\n",
      "331/331 [==============================] - 4s 13ms/step - loss: 0.2151 - accuracy: 0.9286 - val_loss: 0.2421 - val_accuracy: 0.9288\n",
      "Epoch 54/100\n",
      "331/331 [==============================] - 4s 13ms/step - loss: 0.2176 - accuracy: 0.9264 - val_loss: 0.2543 - val_accuracy: 0.9254\n",
      "Epoch 55/100\n",
      "331/331 [==============================] - 4s 13ms/step - loss: 0.2228 - accuracy: 0.9264 - val_loss: 0.2414 - val_accuracy: 0.9316\n",
      "Epoch 56/100\n",
      "331/331 [==============================] - 5s 15ms/step - loss: 0.2178 - accuracy: 0.9276 - val_loss: 0.2566 - val_accuracy: 0.9284\n",
      "Epoch 57/100\n"
     ]
    },
    {
     "name": "stdout",
     "output_type": "stream",
     "text": [
      "331/331 [==============================] - 5s 14ms/step - loss: 0.2207 - accuracy: 0.9277 - val_loss: 0.2562 - val_accuracy: 0.9244\n",
      "Epoch 58/100\n",
      "331/331 [==============================] - 4s 14ms/step - loss: 0.2242 - accuracy: 0.9259 - val_loss: 0.2448 - val_accuracy: 0.9256\n",
      "Epoch 59/100\n",
      "331/331 [==============================] - 4s 13ms/step - loss: 0.2215 - accuracy: 0.9259 - val_loss: 0.2542 - val_accuracy: 0.9256\n",
      "Epoch 60/100\n",
      "331/331 [==============================] - 4s 13ms/step - loss: 0.2300 - accuracy: 0.9224 - val_loss: 0.2570 - val_accuracy: 0.9261\n",
      "Epoch 61/100\n",
      "331/331 [==============================] - 4s 14ms/step - loss: 0.2177 - accuracy: 0.9266 - val_loss: 0.2619 - val_accuracy: 0.9284\n",
      "Epoch 62/100\n",
      "331/331 [==============================] - 4s 14ms/step - loss: 0.2316 - accuracy: 0.9236 - val_loss: 0.2676 - val_accuracy: 0.9235\n",
      "Epoch 63/100\n",
      "331/331 [==============================] - 4s 13ms/step - loss: 0.2249 - accuracy: 0.9259 - val_loss: 0.2539 - val_accuracy: 0.9291\n",
      "Epoch 64/100\n",
      "331/331 [==============================] - 4s 14ms/step - loss: 0.2157 - accuracy: 0.9273 - val_loss: 0.2517 - val_accuracy: 0.9308\n",
      "Epoch 65/100\n",
      "331/331 [==============================] - 4s 13ms/step - loss: 0.2150 - accuracy: 0.9276 - val_loss: 0.2462 - val_accuracy: 0.9293\n",
      "Epoch 66/100\n",
      "331/331 [==============================] - 5s 14ms/step - loss: 0.2120 - accuracy: 0.9299 - val_loss: 0.2463 - val_accuracy: 0.9288\n",
      "Epoch 67/100\n",
      "331/331 [==============================] - 5s 14ms/step - loss: 0.2129 - accuracy: 0.9294 - val_loss: 0.2624 - val_accuracy: 0.9199\n",
      "Epoch 68/100\n",
      "331/331 [==============================] - 4s 14ms/step - loss: 0.2094 - accuracy: 0.9287 - val_loss: 0.2511 - val_accuracy: 0.9252\n",
      "Epoch 69/100\n",
      "331/331 [==============================] - 5s 14ms/step - loss: 0.2133 - accuracy: 0.9286 - val_loss: 0.2536 - val_accuracy: 0.9274\n",
      "Epoch 70/100\n",
      "331/331 [==============================] - 5s 14ms/step - loss: 0.2123 - accuracy: 0.9294 - val_loss: 0.2646 - val_accuracy: 0.9244\n",
      "Epoch 71/100\n",
      "331/331 [==============================] - 5s 14ms/step - loss: 0.2120 - accuracy: 0.9294 - val_loss: 0.2509 - val_accuracy: 0.9284\n",
      "Epoch 72/100\n",
      "331/331 [==============================] - 5s 14ms/step - loss: 0.2110 - accuracy: 0.9293 - val_loss: 0.2640 - val_accuracy: 0.9248\n",
      "Epoch 73/100\n",
      "331/331 [==============================] - 4s 14ms/step - loss: 0.2142 - accuracy: 0.9278 - val_loss: 0.2547 - val_accuracy: 0.9282\n",
      "Epoch 74/100\n",
      "331/331 [==============================] - 4s 14ms/step - loss: 0.2158 - accuracy: 0.9289 - val_loss: 0.2632 - val_accuracy: 0.9276\n",
      "Epoch 75/100\n",
      "331/331 [==============================] - 11s 32ms/step - loss: 0.2133 - accuracy: 0.9286 - val_loss: 0.2591 - val_accuracy: 0.9271\n",
      "Epoch 76/100\n",
      "331/331 [==============================] - 4s 13ms/step - loss: 0.2143 - accuracy: 0.9292 - val_loss: 0.2563 - val_accuracy: 0.9297\n",
      "Epoch 77/100\n",
      "331/331 [==============================] - 4s 13ms/step - loss: 0.2144 - accuracy: 0.9281 - val_loss: 0.2578 - val_accuracy: 0.9256\n",
      "Epoch 78/100\n",
      "331/331 [==============================] - 4s 13ms/step - loss: 0.2106 - accuracy: 0.9291 - val_loss: 0.2373 - val_accuracy: 0.9318\n",
      "Epoch 79/100\n",
      "331/331 [==============================] - 4s 13ms/step - loss: 0.2089 - accuracy: 0.9300 - val_loss: 0.2542 - val_accuracy: 0.9259\n",
      "Epoch 80/100\n",
      "331/331 [==============================] - 5s 14ms/step - loss: 0.2118 - accuracy: 0.9303 - val_loss: 0.2563 - val_accuracy: 0.9293\n",
      "Epoch 81/100\n",
      "331/331 [==============================] - 4s 14ms/step - loss: 0.2148 - accuracy: 0.9275 - val_loss: 0.2550 - val_accuracy: 0.9265\n",
      "Epoch 82/100\n",
      "331/331 [==============================] - 5s 14ms/step - loss: 0.2150 - accuracy: 0.9283 - val_loss: 0.2557 - val_accuracy: 0.9297\n",
      "Epoch 83/100\n",
      "331/331 [==============================] - 5s 14ms/step - loss: 0.2129 - accuracy: 0.9281 - val_loss: 0.2524 - val_accuracy: 0.9267\n",
      "Epoch 84/100\n",
      "331/331 [==============================] - 5s 14ms/step - loss: 0.2032 - accuracy: 0.9317 - val_loss: 0.2537 - val_accuracy: 0.9291\n",
      "Epoch 85/100\n",
      "331/331 [==============================] - 4s 14ms/step - loss: 0.2075 - accuracy: 0.9304 - val_loss: 0.2472 - val_accuracy: 0.9310\n",
      "Epoch 86/100\n",
      "331/331 [==============================] - ETA: 0s - loss: 0.2079 - accuracy: 0.9303 ETA: 0s - loss: 0.2083 - accuracy: 0. - 4s 14ms/step - loss: 0.2082 - accuracy: 0.9303 - val_loss: 0.2455 - val_accuracy: 0.9323\n",
      "Epoch 87/100\n",
      "331/331 [==============================] - 4s 14ms/step - loss: 0.2108 - accuracy: 0.9289 - val_loss: 0.2529 - val_accuracy: 0.9284\n",
      "Epoch 88/100\n",
      "331/331 [==============================] - 4s 14ms/step - loss: 0.2184 - accuracy: 0.9271 - val_loss: 0.2429 - val_accuracy: 0.9344\n",
      "Epoch 89/100\n",
      "331/331 [==============================] - 5s 14ms/step - loss: 0.2141 - accuracy: 0.9282 - val_loss: 0.2383 - val_accuracy: 0.9318\n",
      "Epoch 90/100\n",
      "331/331 [==============================] - 5s 14ms/step - loss: 0.2088 - accuracy: 0.9303 - val_loss: 0.2545 - val_accuracy: 0.9286\n",
      "Epoch 91/100\n",
      "331/331 [==============================] - 5s 14ms/step - loss: 0.2065 - accuracy: 0.9301 - val_loss: 0.2573 - val_accuracy: 0.9244\n",
      "Epoch 92/100\n",
      "331/331 [==============================] - 5s 14ms/step - loss: 0.2127 - accuracy: 0.9293 - val_loss: 0.2459 - val_accuracy: 0.9276\n",
      "Epoch 93/100\n",
      "331/331 [==============================] - 5s 14ms/step - loss: 0.2099 - accuracy: 0.9288 - val_loss: 0.2548 - val_accuracy: 0.9256\n",
      "Epoch 94/100\n",
      "331/331 [==============================] - 4s 14ms/step - loss: 0.2109 - accuracy: 0.9294 - val_loss: 0.2500 - val_accuracy: 0.9276\n",
      "Epoch 95/100\n",
      "331/331 [==============================] - 5s 14ms/step - loss: 0.2071 - accuracy: 0.9315 - val_loss: 0.2566 - val_accuracy: 0.9271\n",
      "Epoch 96/100\n",
      "331/331 [==============================] - 5s 14ms/step - loss: 0.2116 - accuracy: 0.9296 - val_loss: 0.2536 - val_accuracy: 0.9284\n",
      "Epoch 97/100\n",
      "331/331 [==============================] - 5s 14ms/step - loss: 0.2100 - accuracy: 0.9315 - val_loss: 0.2597 - val_accuracy: 0.9248\n",
      "Epoch 98/100\n",
      "331/331 [==============================] - 5s 14ms/step - loss: 0.2092 - accuracy: 0.9307 - val_loss: 0.2574 - val_accuracy: 0.9254\n",
      "Epoch 99/100\n",
      "331/331 [==============================] - 4s 14ms/step - loss: 0.2157 - accuracy: 0.9288 - val_loss: 0.2516 - val_accuracy: 0.9271\n",
      "Epoch 100/100\n",
      "331/331 [==============================] - 4s 14ms/step - loss: 0.2105 - accuracy: 0.9291 - val_loss: 0.2586 - val_accuracy: 0.9256\n"
     ]
    }
   ],
   "source": [
    "batch = 128\n",
    "epochs = 100\n",
    "tf.keras.callbacks.EarlyStopping(\"val_accuracy\",patience=100, restore_best_weights=True)\n",
    "modelo.compile(loss=\"sparse_categorical_crossentropy\",optimizer=\"adam\", metrics=[\"accuracy\"])\n",
    "historia = modelo.fit(X_treino, Y_treino, batch_size=batch, epochs=epochs, validation_split=0.1)"
   ]
  },
  {
   "cell_type": "code",
   "execution_count": 9,
   "id": "6658e6d2",
   "metadata": {},
   "outputs": [
    {
     "data": {
      "text/plain": [
       "<matplotlib.legend.Legend at 0x19b7cc898b0>"
      ]
     },
     "execution_count": 9,
     "metadata": {},
     "output_type": "execute_result"
    },
    {
     "data": {
      "image/png": "[encoded data removed]",
      "text/plain": [
       "<Figure size 432x288 with 1 Axes>"
      ]
     },
     "metadata": {
      "needs_background": "light"
     },
     "output_type": "display_data"
    }
   ],
   "source": [
    "plt.plot(historia.epoch, historia.history['val_accuracy'], ',-r', label=\"Validação\")\n",
    "plt.plot(historia.epoch, historia.history['accuracy'],',-y', label=\"Treinamento\")\n",
    "\n",
    "plt.title(\"Curva de aprendizado: Acurácia\")\n",
    "plt.xlabel(\"Época\")\n",
    "plt.ylabel(\"Acurácia\")\n",
    "plt.legend()"
   ]
  },
  {
   "cell_type": "code",
   "execution_count": 12,
   "id": "9b37baba",
   "metadata": {
    "scrolled": true
   },
   "outputs": [
    {
     "name": "stdout",
     "output_type": "stream",
     "text": [
      "21\n",
      "8\n",
      "(5216,)\n"
     ]
    },
    {
     "data": {
      "image/png": "[encoded data removed]",
      "text/plain": [
       "<Figure size 720x720 with 2 Axes>"
      ]
     },
     "metadata": {
      "needs_background": "light"
     },
     "output_type": "display_data"
    }
   ],
   "source": [
    "letras = \"abcdefghijklmnopqrstuvwxyz\"\n",
    "def convLetra(x):\n",
    "    return letras[x]\n",
    "converterLetra = np.vectorize(convLetra)\n",
    "\n",
    "Y_previsto = modelo.predict(X_teste)\n",
    "Y_previsto = np.argmax(Y_previsto, axis=1)\n",
    "#Y_previsto = tf.keras.utils.to_categorical(np.argmax(Y_previsto, axis=1))\n",
    "print(Y_previsto[0])\n",
    "print(Y_previsto[1])\n",
    "print(Y_previsto.shape)\n",
    "matrizConf = ConfusionMatrixDisplay.from_predictions(converterLetra(Y_teste), converterLetra(Y_previsto))\n",
    "matrizConf.figure_.set_size_inches(10,10)"
   ]
  },
  {
   "cell_type": "code",
   "execution_count": 13,
   "id": "f8d06596",
   "metadata": {
    "scrolled": true
   },
   "outputs": [
    {
     "name": "stdout",
     "output_type": "stream",
     "text": [
      "163/163 - 1s - loss: 0.2893 - accuracy: 0.9224\n"
     ]
    }
   ],
   "source": [
    "score = modelo.evaluate(X_teste, Y_teste, verbose = 2)"
   ]
  },
  {
   "cell_type": "code",
   "execution_count": 14,
   "id": "1b710587",
   "metadata": {},
   "outputs": [
    {
     "data": {
      "text/plain": [
       "<matplotlib.image.AxesImage at 0x19bd4866a30>"
      ]
     },
     "execution_count": 14,
     "metadata": {},
     "output_type": "execute_result"
    },
    {
     "data": {
      "image/png": "[encoded data removed]",
      "text/plain": [
       "<Figure size 432x288 with 1 Axes>"
      ]
     },
     "metadata": {
      "needs_background": "light"
     },
     "output_type": "display_data"
    }
   ],
   "source": [
    "plt.imshow(X_treino[0],cmap=\"gray\")"
   ]
  },
  {
   "cell_type": "code",
   "execution_count": 15,
   "id": "f6fc7de8",
   "metadata": {},
   "outputs": [
    {
     "name": "stdout",
     "output_type": "stream",
     "text": [
      "u\n"
     ]
    }
   ],
   "source": [
    "print(convLetra(Y_treino[0]))"
   ]
  },
  {
   "cell_type": "code",
   "execution_count": 16,
   "id": "d9b462ea",
   "metadata": {},
   "outputs": [
    {
     "name": "stdout",
     "output_type": "stream",
     "text": [
      "233.9375\n",
      "[[0.]\n",
      " [0.]\n",
      " [0.]\n",
      " [0.]\n",
      " [0.]\n",
      " [0.]\n",
      " [0.]\n",
      " [1.]]\n",
      "(1, 16, 8, 1)\n"
     ]
    },
    {
     "data": {
      "text/plain": [
       "<matplotlib.image.AxesImage at 0x19bd48cdac0>"
      ]
     },
     "execution_count": 16,
     "metadata": {},
     "output_type": "execute_result"
    },
    {
     "data": {
      "image/png": "[encoded data removed]",
      "text/plain": [
       "<Figure size 432x288 with 1 Axes>"
      ]
     },
     "metadata": {
      "needs_background": "light"
     },
     "output_type": "display_data"
    },
    {
     "data": {
      "image/png": "[encoded data removed]",
      "text/plain": [
       "<Figure size 432x288 with 1 Axes>"
      ]
     },
     "metadata": {
      "needs_background": "light"
     },
     "output_type": "display_data"
    }
   ],
   "source": [
    "imgreal = tf.keras.preprocessing.image.load_img(\"imgteste.jpg\", color_mode=\"grayscale\")\n",
    "imgreal = tf.keras.preprocessing.image.img_to_array(imgreal)\n",
    "plt.imshow(imgreal,cmap=\"gray\")\n",
    "plt.figure()\n",
    "media = np.mean(imgreal)\n",
    "print(media)\n",
    "\n",
    "def formatar(x):\n",
    "    return np.abs(np.floor(x/media)-1)\n",
    "\n",
    "\n",
    "imgreal = formatar(imgreal)\n",
    "print(imgreal[0])\n",
    "imgreal = np.reshape(imgreal, (1,16,8,1))\n",
    "print(imgreal.shape)\n",
    "plt.imshow(imgreal[0],cmap=\"gray\")"
   ]
  },
  {
   "cell_type": "code",
   "execution_count": 17,
   "id": "fa1fded4",
   "metadata": {},
   "outputs": [
    {
     "name": "stdout",
     "output_type": "stream",
     "text": [
      "[[1.7390116e-12 1.8199292e-12 7.7140058e-13 1.0086924e-11 8.5875890e-10\n",
      "  1.0405277e-10 1.7209462e-08 8.2591389e-10 1.0249108e-08 4.3172108e-11\n",
      "  2.8183709e-07 4.3803285e-09 4.3997934e-14 1.4028345e-07 5.1163991e-12\n",
      "  1.6759573e-09 1.3354270e-14 5.1909786e-02 1.7110052e-13 9.2078194e-09\n",
      "  1.7818293e-04 9.4791138e-01 7.9649877e-11 5.4120690e-09 2.2184095e-07\n",
      "  5.4552276e-15]]\n",
      "v\n"
     ]
    }
   ],
   "source": [
    "print(modelo.predict(imgreal,batch_size=1))\n",
    "print(convLetra(modelo.predict(imgreal,batch_size=1).argmax()))"
   ]
  },
  {
   "cell_type": "code",
   "execution_count": 18,
   "id": "94652112",
   "metadata": {},
   "outputs": [
    {
     "name": "stdout",
     "output_type": "stream",
     "text": [
      "129.77344\n",
      "[[1.]\n",
      " [0.]\n",
      " [0.]\n",
      " [0.]\n",
      " [0.]\n",
      " [0.]\n",
      " [0.]\n",
      " [0.]]\n",
      "(1, 16, 8, 1)\n"
     ]
    },
    {
     "data": {
      "text/plain": [
       "<matplotlib.image.AxesImage at 0x19bd48b5130>"
      ]
     },
     "execution_count": 18,
     "metadata": {},
     "output_type": "execute_result"
    },
    {
     "data": {
      "image/png": "[encoded data removed]",
      "text/plain": [
       "<Figure size 432x288 with 1 Axes>"
      ]
     },
     "metadata": {
      "needs_background": "light"
     },
     "output_type": "display_data"
    },
    {
     "data": {
      "image/png": "[encoded data removed]",
      "text/plain": [
       "<Figure size 432x288 with 1 Axes>"
      ]
     },
     "metadata": {
      "needs_background": "light"
     },
     "output_type": "display_data"
    }
   ],
   "source": [
    "imgreal = tf.keras.preprocessing.image.load_img(\"imgteste2.jpg\", color_mode=\"grayscale\")\n",
    "imgreal = tf.keras.preprocessing.image.img_to_array(imgreal)\n",
    "plt.imshow(imgreal,cmap=\"gray\")\n",
    "plt.figure()\n",
    "media = np.mean(imgreal)\n",
    "print(media)\n",
    "\n",
    "def formatar(x):\n",
    "    return np.abs(np.floor(x/media)-1)\n",
    "\n",
    "\n",
    "imgreal = formatar(imgreal)\n",
    "print(imgreal[0])\n",
    "imgreal = np.reshape(imgreal, (1,16,8,1))\n",
    "print(imgreal.shape)\n",
    "plt.imshow(imgreal[0],cmap=\"gray\")"
   ]
  },
  {
   "cell_type": "code",
   "execution_count": 19,
   "id": "9dd0fa93",
   "metadata": {},
   "outputs": [
    {
     "name": "stdout",
     "output_type": "stream",
     "text": [
      "[[1.0676482e-11 9.9999988e-01 4.1069688e-15 2.8127740e-09 3.7151280e-13\n",
      "  4.5144446e-15 6.4372919e-08 3.3959303e-08 1.2226675e-14 1.8886741e-16\n",
      "  7.9149043e-09 1.4015646e-15 3.9060151e-16 4.5699274e-14 4.7746956e-10\n",
      "  2.2316299e-19 2.0478046e-11 7.5918815e-17 6.3352994e-09 2.1670042e-08\n",
      "  6.0990357e-14 2.2020840e-18 7.5661822e-16 1.6994264e-18 1.5653242e-08\n",
      "  1.4264975e-12]]\n",
      "b\n"
     ]
    }
   ],
   "source": [
    "print(modelo.predict(imgreal,batch_size=1))\n",
    "print(convLetra(modelo.predict(imgreal,batch_size=1).argmax()))"
   ]
  }
 ],
 "metadata": {
  "kernelspec": {
   "display_name": "Python 3 (ipykernel)",
   "language": "python",
   "name": "python3"
  },
  "language_info": {
   "codemirror_mode": {
    "name": "ipython",
    "version": 3
   },
   "file_extension": ".py",
   "mimetype": "text/x-python",
   "name": "python",
   "nbconvert_exporter": "python",
   "pygments_lexer": "ipython3",
   "version": "3.9.13"
  }
 },
 "nbformat": 4,
 "nbformat_minor": 5
}
